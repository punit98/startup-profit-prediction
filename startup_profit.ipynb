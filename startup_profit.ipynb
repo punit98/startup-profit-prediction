{
 "cells": [
  {
   "cell_type": "code",
   "execution_count": 1,
   "metadata": {
    "colab": {
     "base_uri": "https://localhost:8080/",
     "height": 573
    },
    "id": "cm6KwFVS26IC",
    "outputId": "93485117-d538-4a79-c315-b7c0017d7529"
   },
   "outputs": [],
   "source": [
    "import numpy as np\n",
    "import pandas as pd\n",
    "import matplotlib.pyplot as plt\n",
    "dataset=pd.read_csv('50_Startups.csv')\n",
    "x=dataset.iloc[:,:-1].values\n",
    "y=dataset.iloc[:,4].values\n"
   ]
  },
  {
   "cell_type": "code",
   "execution_count": 2,
   "metadata": {
    "colab": {
     "base_uri": "https://localhost:8080/",
     "height": 573
    },
    "id": "cm6KwFVS26IC",
    "outputId": "93485117-d538-4a79-c315-b7c0017d7529"
   },
   "outputs": [],
   "source": [
    "from sklearn.preprocessing import LabelEncoder, OneHotEncoder\n",
    "labelencoder = LabelEncoder()\n",
    "x[:, 3] = labelencoder.fit_transform(x[:, 3])\n",
    "\n",
    "city = x[:, 3]\n",
    "city = city.reshape(-1, 1)\n",
    "onehotencoder = OneHotEncoder()\n",
    "city = onehotencoder.fit_transform(city).toarray()\n",
    "x = np.delete(x, 3, 1)\n",
    "x = np.append(x, city, axis = 1)"
   ]
  },
  {
   "cell_type": "code",
   "execution_count": 3,
   "metadata": {
    "colab": {
     "base_uri": "https://localhost:8080/",
     "height": 573
    },
    "id": "cm6KwFVS26IC",
    "outputId": "93485117-d538-4a79-c315-b7c0017d7529"
   },
   "outputs": [],
   "source": [
    "from sklearn.model_selection import train_test_split\n",
    "x_train, x_test,  y_train, y_test = train_test_split(x, y, test_size = 0.14, random_state=0)\n",
    "\n",
    "from sklearn.linear_model import LinearRegression\n",
    "regressor = LinearRegression()\n",
    "regressor.fit(x_train, y_train)\n",
    "\n",
    "y_pred=regressor.predict(x_test)"
   ]
  },
  {
   "cell_type": "code",
   "execution_count": 4,
   "metadata": {
    "colab": {
     "base_uri": "https://localhost:8080/",
     "height": 573
    },
    "id": "cm6KwFVS26IC",
    "outputId": "93485117-d538-4a79-c315-b7c0017d7529"
   },
   "outputs": [],
   "source": [
    "%matplotlib qt\n",
    "plt.plot(y_pred, color = 'red', label = 'predicted')\n",
    "plt.plot(y_test, color = 'blue', label = 'test data')\n",
    "plt.legend()\n",
    "plt.show()"
   ]
  },
  {
   "cell_type": "code",
   "execution_count": null,
   "metadata": {},
   "outputs": [],
   "source": []
  }
 ],
 "metadata": {
  "colab": {
   "name": "startup_profit.ipynb",
   "provenance": []
  },
  "kernelspec": {
   "display_name": "Python 3",
   "language": "python",
   "name": "python3"
  },
  "language_info": {
   "codemirror_mode": {
    "name": "ipython",
    "version": 3
   },
   "file_extension": ".py",
   "mimetype": "text/x-python",
   "name": "python",
   "nbconvert_exporter": "python",
   "pygments_lexer": "ipython3",
   "version": "3.8.3"
  }
 },
 "nbformat": 4,
 "nbformat_minor": 4
}
